{
 "cells": [
  {
   "cell_type": "markdown",
   "id": "595f776c",
   "metadata": {},
   "source": [
    "# Clique problem"
   ]
  },
  {
   "cell_type": "code",
   "execution_count": 4,
   "id": "28ab090c",
   "metadata": {},
   "outputs": [],
   "source": [
    "import random"
   ]
  },
  {
   "cell_type": "code",
   "execution_count": 9,
   "id": "69b9d02a",
   "metadata": {},
   "outputs": [],
   "source": [
    "#clique checker\n",
    "def checker(g, clique):\n",
    "    s = set(clique)\n",
    "    for v in clique:\n",
    "        c = 0\n",
    "        for u in g[v]:\n",
    "            if (u in s):\n",
    "                c += 1\n",
    "        if (c != len(clique) - 1):\n",
    "            return 0\n",
    "    return 1"
   ]
  },
  {
   "cell_type": "markdown",
   "id": "fa420003",
   "metadata": {},
   "source": [
    "Максимальная клика(maximal clique) - клика которую нельзя расширить\n",
    "Наибольшая клика(maximum clique) - самая большая по количеству вершин клика"
   ]
  },
  {
   "cell_type": "code",
   "execution_count": 6,
   "id": "177cb7d0",
   "metadata": {},
   "outputs": [],
   "source": [
    "#find maximal lexicographically first clique O(n + m)\n",
    "def find_maximal_clique(g, first_clique = 1):\n",
    "    n = len(g)\n",
    "    clique = []\n",
    "    c = [0] * n\n",
    "    random_array = [i for i in range(n)]\n",
    "    if (first_clique != 1):\n",
    "        random.shuffle(random_array)\n",
    "    for v in random_array:\n",
    "        if (c[v] == len(clique)):\n",
    "            for u in g[v]:\n",
    "                c[u] += 1\n",
    "            clique.append(v)\n",
    "    return clique"
   ]
  },
  {
   "cell_type": "code",
   "execution_count": 60,
   "id": "e94c9547",
   "metadata": {},
   "outputs": [],
   "source": [
    "#find clique fix size = k, O(n^k * k^2)\n",
    "a = []\n",
    "def clique_fix_size(g, size_clique, _k = -1):\n",
    "    n = len(g)\n",
    "    if (size_clique == len(a)):\n",
    "        if checker(g, a):\n",
    "            return a\n",
    "        else:\n",
    "            return None\n",
    "    for i in range(_k + 1, n):\n",
    "        a.append(i)\n",
    "        c = clique_fix_size(g, size_clique, i)\n",
    "        if c:\n",
    "            return c\n",
    "        a.pop()\n",
    "    return None\n"
   ]
  },
  {
   "cell_type": "code",
   "execution_count": 76,
   "id": "eed4a67c",
   "metadata": {},
   "outputs": [],
   "source": [
    "###find all cliques size 3, O(m*a(g)) => O(m^(3/2)), a[g] = arboricity of the graph\n",
    "def find_all_clique_size_3(g):\n",
    "    n = len(g)\n",
    "    degs = [len(g[i]) for i in range(n)]\n",
    "    order = [i for i in range(n)]\n",
    "    order.sort(key = lambda i: degs[i])\n",
    "    used = [0] * n\n",
    "    edges = set()\n",
    "    for v in range(n):\n",
    "        for u in g[v]:\n",
    "            edges.add((u, v))\n",
    "            edges.add((v, u))\n",
    "    res = []\n",
    "    for v in order:\n",
    "        ok_vertex = [u for u in g[v] if not used[u]]\n",
    "        for i in range(len(ok_vertex)):\n",
    "            for j in range(i + 1, len(ok_vertex)):\n",
    "                u, w = ok_vertex[i], ok_vertex[j]\n",
    "                if (u, w) in edges:\n",
    "                    res.append((v, u, w))\n",
    "        used[v] = 1\n",
    "    return res"
   ]
  },
  {
   "cell_type": "code",
   "execution_count": 77,
   "id": "6ec5a109",
   "metadata": {},
   "outputs": [
    {
     "data": {
      "text/plain": [
       "[(0, 1, 2), (3, 2, 4), (8, 7, 6), (5, 7, 6)]"
      ]
     },
     "execution_count": 77,
     "metadata": {},
     "output_type": "execute_result"
    }
   ],
   "source": [
    "g = [[1, 2], [0, 2], [0, 1, 3, 4], [2, 4], [3, 2, 5], [4, 7, 6], [5, 7, 8], [5, 6, 8], [7, 6]]"
   ]
  },
  {
   "cell_type": "code",
   "execution_count": 78,
   "id": "f57c7573",
   "metadata": {},
   "outputs": [],
   "source": [
    "def bron_kerbosch_max_by_inclusion(m):\n",
    "\n",
    "    results = []\n",
    "\n",
    "    def check(candidates, wrong):\n",
    "        for i in wrong:\n",
    "            q = True\n",
    "            for j in candidates:\n",
    "                if m[i][j]:\n",
    "                    q = False\n",
    "                    break\n",
    "            if q: return False\n",
    "        return True\n",
    "\n",
    "    def extend(compsub, candidates, wrong):\n",
    "\n",
    "        while candidates and check(candidates, wrong):\n",
    "\n",
    "            v = candidates[0]\n",
    "            compsub.append(v)\n",
    "\n",
    "            new_candidates = [ i for i in candidates if not m[i][v] and i != v ]\n",
    "            new_wrong = [ i for i in wrong if not m[i][v] and i != v ]\n",
    "\n",
    "            if not new_candidates and not new_wrong:\n",
    "                results.append(list(compsub))\n",
    "            else:\n",
    "                extend(compsub, new_candidates, new_wrong)\n",
    "\n",
    "            candidates.remove(v)\n",
    "            compsub.remove(v)\n",
    "            wrong.append(v)\n",
    "\n",
    "    extend([], list(range(len(m))), [])\n",
    "\n",
    "    return results\n",
    "\n"
   ]
  },
  {
   "cell_type": "code",
   "execution_count": 79,
   "id": "61db5146",
   "metadata": {},
   "outputs": [],
   "source": [
    "g = [[0, 1, 1], [1, 0, 0], [1, 0, 0]]"
   ]
  },
  {
   "cell_type": "code",
   "execution_count": 80,
   "id": "0b55694e",
   "metadata": {},
   "outputs": [
    {
     "data": {
      "text/plain": [
       "[[0], [1, 2]]"
      ]
     },
     "execution_count": 80,
     "metadata": {},
     "output_type": "execute_result"
    }
   ],
   "source": [
    "bron_kerbosch_max_by_inclusion(g)"
   ]
  }
 ],
 "metadata": {
  "kernelspec": {
   "display_name": "Python 3 (ipykernel)",
   "language": "python",
   "name": "python3"
  },
  "language_info": {
   "codemirror_mode": {
    "name": "ipython",
    "version": 3
   },
   "file_extension": ".py",
   "mimetype": "text/x-python",
   "name": "python",
   "nbconvert_exporter": "python",
   "pygments_lexer": "ipython3",
   "version": "3.9.7"
  }
 },
 "nbformat": 4,
 "nbformat_minor": 5
}
